{
 "cells": [
  {
   "cell_type": "markdown",
   "metadata": {},
   "source": [
    "## Smith-Waterman Algorithm with Affine Scoring\n",
    "\n",
    "Affine scoring gives a higher penalty for the *first gap* in a sequence of gaps, this is because when there is a gap in an alignment what is more important usually is that the fact that there is gap, particular size of it might come secondary.\n",
    "\n",
    "$ \\text{Gap penalty} = (length_{gap} \\cdot e) + d $ where d is the gap **initialization penalty** and e is the **extension penalty**.\n",
    "\n",
    "#### Some definitions:\n",
    "$$\n",
    "\\begin{split}\n",
    "s(a,b) & = \\text{score of aligning a and b} \\\\\n",
    "F(i,j) & = \\text{optimal alignment between substrings $A(1:i)$ and $B(1:j)$}\n",
    "\\end{split}\n",
    "$$\n",
    "\n",
    "#### Initialization:\n",
    "$$\n",
    "\\begin{split}\n",
    "F(i,0) = 0 \\\\\n",
    "F(0,j) = 0 \n",
    "\\end{split}\n",
    "$$\n",
    "#### Induction:\n",
    "$$\n",
    "\\begin{split}\n",
    "F(i,j) = max(& 0, \\\\\n",
    "  & F(i, j-1) + e \\text{ if } D(i,j-1) = \\text{ 'left', else } F(i, j-1) + d + e , \\\\\n",
    "  & F(i-1, j) + e \\text{ if } D(i-1,j) = \\text{ 'up', else } F(i-1, j) + d + e , \\\\\n",
    "  & F(i-1,j-1) + s(A(i), B(j)))\n",
    "\\end{split}\n",
    "$$\n"
   ]
  },
  {
   "cell_type": "code",
   "execution_count": 147,
   "metadata": {},
   "outputs": [],
   "source": [
    "# Importing to keep track of the top 10 elements.\n",
    "from heapq import heapify, heappush, heappop \n",
    "def findTop10(F):\n",
    "    top10 = [(-1, (-1,-1)) for _ in range(10)]\n",
    "    heapify(top10)\n",
    "    for i in range(len(F)):\n",
    "        for j in range(len(F[0])):\n",
    "            if top10[0][0] < F[i][j]:\n",
    "                heappop(top10)\n",
    "                heappush(top10, (F[i][j], (i,j)))\n",
    "    return list(reversed(top10)) "
   ]
  },
  {
   "cell_type": "code",
   "execution_count": 148,
   "metadata": {},
   "outputs": [],
   "source": [
    "# First read the input files to fenerate the global variables\n",
    "def read_variables(parameter_file, text_file):\n",
    "    with open(parameter_file, \"r\") as file1:\n",
    "        d, e = map(int, file1.readline().strip().split(\" \"))\n",
    "        alphabet = {key:index for (index, key) in enumerate(file1.readline().strip().split(\" \"))}\n",
    "        scoring_matrix = []\n",
    "        for i in range(len(alphabet)):\n",
    "            row = list(map(int, file1.readline().strip().split(\" \")))\n",
    "            scoring_matrix.append(row)\n",
    "    with open(text_file, \"r\") as file2:\n",
    "        seq1 = file2.readline().strip()\n",
    "        seq2 = file2.readline().strip()\n",
    "    return (seq1, seq2, scoring_matrix, d, e, alphabet)"
   ]
  },
  {
   "cell_type": "code",
   "execution_count": 149,
   "metadata": {},
   "outputs": [],
   "source": [
    "# Initialize the matrices, F[i][j] is the optimal alignment between seq1[0:i] and seq2[0:j]\n",
    "def SWinitialize(seq1, seq2):\n",
    "    seqlen1 = len(seq1)\n",
    "    seqlen2 = len(seq2)\n",
    "    F = [[0 for y in range(seqlen2+1)] for x in range(seqlen1+1)]\n",
    "    D = [[0 for y in range(seqlen2+1)] for x in range(seqlen1+1)]\n",
    "    return F, D"
   ]
  },
  {
   "cell_type": "code",
   "execution_count": 150,
   "metadata": {},
   "outputs": [],
   "source": [
    "def SWinduce(F, D, seq1, seq2, scoring_matrix, d, e, alphabet):\n",
    "    none, diag, up, left = 0, 1, 2, 3\n",
    "    for i in range(1, len(seq1)+1):\n",
    "        for j in range(1, len(seq2)+1):\n",
    "            upScore = F[i-1][j] + e\n",
    "            leftScore = F[i][j-1] + e\n",
    "            diagScore = F[i-1][j-1] + scoring_matrix[alphabet[seq1[i-1]]][alphabet[seq2[j-1]]]\n",
    "            currScore = 0 # cannot be worse\n",
    "            currTrace = none # we will figure is out\n",
    "            # If gap continues in the first sequence\n",
    "            if D[i][j-1] == left:\n",
    "                if leftScore > currScore:\n",
    "                    currScore = leftScore\n",
    "                    currTrace = left \n",
    "            # If initial gap in the first sequence\n",
    "            else:\n",
    "                if leftScore + d - e > currScore:\n",
    "                    currScore = leftScore + d - e \n",
    "                    currTrace = left \n",
    "            # If gap continues in the second sequence\n",
    "            if D[i-1][j] == up:\n",
    "                if upScore > currScore:\n",
    "                    currScore = upScore\n",
    "                    currTrace = up \n",
    "            # If initial gap in the second sequence \n",
    "            else:\n",
    "                if upScore + d - e > currScore:\n",
    "                    currScore = upScore + d - e\n",
    "                    DcurrTrace = up \n",
    "            # If no gaps\n",
    "            if diagScore > currScore:\n",
    "                currScore = diagScore\n",
    "                currTrace = diag  \n",
    "            F[i][j] = currScore \n",
    "            D[i][j] = currTrace   "
   ]
  },
  {
   "cell_type": "code",
   "execution_count": 151,
   "metadata": {},
   "outputs": [],
   "source": [
    "def SWtraceback(F, D, seq1, seq2, k=10):\n",
    "    none, diag, up, left = 0, 1, 2, 3\n",
    "    top10 = findTop10(F)\n",
    "    results = []\n",
    "    for top in top10:\n",
    "        score, index = top[0], top[1]\n",
    "        i, j = index[0], index[1]\n",
    "        last1 = i\n",
    "        last2 = j\n",
    "        aseq1 = ''\n",
    "        aseq2 = ''\n",
    "        while (D[i][j] != none):\n",
    "            if D[i][j] == diag :\n",
    "                aseq1 += seq1[i-1]\n",
    "                aseq2 += seq2[j-1]\n",
    "                i = i - 1\n",
    "                j = j - 1\n",
    "            if D[i][j] == up:\n",
    "                aseq1 += seq1[i-1]\n",
    "                aseq2 += '-'\n",
    "                i = i - 1\n",
    "            if D[i][j] == left:\n",
    "                aseq2 += seq2[j-1]\n",
    "                aseq1 += '-'\n",
    "                j = j - 1\n",
    "            \n",
    "        results.append([score, (i, aseq1[::-1], last1), (j, aseq2[::-1], last2)])\n",
    "    return(results)"
   ]
  },
  {
   "cell_type": "code",
   "execution_count": null,
   "metadata": {},
   "outputs": [],
   "source": [
    "def calculateLambda(scoring_matrix, alphabet):\n",
    "    k = 0.1\n",
    "    p = 1 / len(alphabet)\n",
    "    return"
   ]
  },
  {
   "cell_type": "code",
   "execution_count": null,
   "metadata": {},
   "outputs": [],
   "source": [
    "def prettyprint(results):\n",
    "    for index, result in enumerate(results):\n",
    "        score = result[0]\n",
    "        title = f\"HSP #{index} - Score: {score} p-value: {p_val}\""
   ]
  },
  {
   "cell_type": "code",
   "execution_count": 152,
   "metadata": {},
   "outputs": [
    {
     "name": "stdout",
     "output_type": "stream",
     "text": [
      "CGGGTAGTTAACCCTACAGCATAGAGTCGCGAGATAAAGTGCAGGAGTCTTTCGCGGCAGATTCGTACCTCAACCACGTGCTACTTTCTGGCATCACGAATCTGCCGCATAGGTCCGTGAGTCCATATGA\n",
      "GGAGCACTCGAATAGTCGTGGGTACTGACTGACCCTGAGTGCCATATGA\n",
      "[[1, -1, -1, -1], [-1, 1, -1, -1], [-1, -1, 1, -1], [-1, -1, -1, 1]]\n",
      "-2\n",
      "-1\n",
      "{'A': 0, 'T': 1, 'C': 2, 'G': 3}\n",
      "[[12, (114, 'CCGTGAGT-CCATATGA', 130), (32, 'CCCTGAGTGCCATATGA', 49)], [10, (114, 'CCGTGAGT-CCATAT', 128), (32, 'CCCTGAGTGCCATAT', 47)], [11, (114, 'CCGTGAGT-CCATATG', 129), (32, 'CCCTGAGTGCCATATG', 48)], [9, (129, 'A--', 130), (45, 'ATG', 48)], [9, (114, 'CCGTGAGT-CCATATG-', 129), (32, 'CCCTGAGTGCCATATGA', 49)], [8, (129, '--', 129), (45, 'AT', 47)], [9, (114, 'CCGTGAGT-CCATA', 127), (32, 'CCCTGAGTGCCATA', 46)], [8, (114, 'CCGTGAGT-CCATAT-', 128), (32, 'CCCTGAGTGCCATATG', 48)], [8, (114, 'CCGTGAGT-CCAT', 126), (32, 'CCCTGAGTGCCAT', 45)], [7, (114, 'CCGTGAGT-CCATAT--', 128), (32, 'CCCTGAGTGCCATATGA', 49)]]\n"
     ]
    }
   ],
   "source": [
    "seq1, seq2, scoring_matrix, d, e, alphabet = read_variables(\"parameters/DNAParams.txt\", \"tests/DNATest1.txt\")\n",
    "\n",
    "p = [print(item) for item in [seq1, seq2, scoring_matrix, d, e, alphabet]]\n",
    "F, D = SWinitialize(seq1, seq2)\n",
    "SWinduce(F, D, seq1, seq2, scoring_matrix, d, e, alphabet)\n",
    "print(SWtraceback(F, D, seq1, seq2))"
   ]
  }
 ],
 "metadata": {
  "kernelspec": {
   "display_name": "simple-vision",
   "language": "python",
   "name": "python3"
  },
  "language_info": {
   "codemirror_mode": {
    "name": "ipython",
    "version": 3
   },
   "file_extension": ".py",
   "mimetype": "text/x-python",
   "name": "python",
   "nbconvert_exporter": "python",
   "pygments_lexer": "ipython3",
   "version": "3.10.13"
  }
 },
 "nbformat": 4,
 "nbformat_minor": 2
}
